{
 "cells": [
  {
   "cell_type": "code",
   "execution_count": null,
   "id": "be757963",
   "metadata": {},
   "outputs": [],
   "source": [
    "s= input('Enter your str')\n",
    "print(s)\n",
    "#l=s.split(\"\")\n",
    "l=list(s)\n",
    "for i in range(len(l)):\n",
    "    l.pop()\n",
    "    print(\"\".join(l))"
   ]
  }
 ],
 "metadata": {
  "kernelspec": {
   "display_name": "Python 3 (ipykernel)",
   "language": "python",
   "name": "python3"
  },
  "language_info": {
   "codemirror_mode": {
    "name": "ipython",
    "version": 3
   },
   "file_extension": ".py",
   "mimetype": "text/x-python",
   "name": "python",
   "nbconvert_exporter": "python",
   "pygments_lexer": "ipython3",
   "version": "3.9.7"
  }
 },
 "nbformat": 4,
 "nbformat_minor": 5
}
